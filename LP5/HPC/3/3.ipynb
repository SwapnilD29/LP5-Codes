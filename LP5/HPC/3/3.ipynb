{
  "nbformat": 4,
  "nbformat_minor": 0,
  "metadata": {
    "colab": {
      "provenance": [],
      "gpuType": "T4"
    },
    "kernelspec": {
      "name": "python3",
      "display_name": "Python 3"
    },
    "language_info": {
      "name": "python"
    },
    "accelerator": "GPU",
    "gpuClass": "standard"
  },
  "cells": [
    {
      "cell_type": "code",
      "execution_count": 1,
      "metadata": {
        "id": "Hhiln58gDJhO",
        "colab": {
          "base_uri": "https://localhost:8080/"
        },
        "outputId": "60416c1e-8fea-491c-92d0-41cd5827fce0"
      },
      "outputs": [
        {
          "output_type": "stream",
          "name": "stdout",
          "text": [
            "nvcc: NVIDIA (R) Cuda compiler driver\n",
            "Copyright (c) 2005-2022 NVIDIA Corporation\n",
            "Built on Wed_Sep_21_10:33:58_PDT_2022\n",
            "Cuda compilation tools, release 11.8, V11.8.89\n",
            "Build cuda_11.8.r11.8/compiler.31833905_0\n"
          ]
        }
      ],
      "source": [
        "!nvcc --version"
      ]
    },
    {
      "cell_type": "code",
      "source": [
        "%%writefile statistics.cpp\n",
        "#include <limits.h>\n",
        "#include <omp.h>\n",
        "#include <stdlib.h>\n",
        "\n",
        "#include <array>\n",
        "#include <chrono>\n",
        "#include <functional>\n",
        "#include <iostream>\n",
        "#include <string>\n",
        "#include <vector>\n",
        "\n",
        "using std::chrono::duration_cast;\n",
        "using std::chrono::high_resolution_clock;\n",
        "using std::chrono::milliseconds;\n",
        "using namespace std;\n",
        "\n",
        "void s_avg(int arr[], int n) {\n",
        "    long sum = 0L;\n",
        "    int i;\n",
        "    for (i = 0; i < n; i++) {\n",
        "        sum = sum + arr[i];\n",
        "    }\n",
        "    // cout << \"\\nAverage = \" << sum / long(n) << \"\\n\";\n",
        "}\n",
        "\n",
        "void p_avg(int arr[], int n) {\n",
        "    long sum = 0L;\n",
        "    int i;\n",
        "#pragma omp parallel for reduction(+ : sum) num_threads(16)\n",
        "    for (i = 0; i < n; i++) {\n",
        "        sum = sum + arr[i];\n",
        "    }\n",
        "    // cout << \"\\nAverage = \" << sum / long(n) << \"\\n\";\n",
        "}\n",
        "\n",
        "void s_sum(int arr[], int n) {\n",
        "    long sum = 0L;\n",
        "    int i;\n",
        "    for (i = 0; i < n; i++) {\n",
        "        sum = sum + arr[i];\n",
        "    }\n",
        "    // cout << \"\\nSum = \" << sum << \"\\n\";\n",
        "}\n",
        "\n",
        "void p_sum(int arr[], int n) {\n",
        "    long sum = 0L;\n",
        "    int i;\n",
        "#pragma omp parallel for reduction(+ : sum) num_threads(16)\n",
        "    for (i = 0; i < n; i++) {\n",
        "        sum = sum + arr[i];\n",
        "    }\n",
        "    // cout << \"\\nSum = \" << sum << \"\\n\";\n",
        "}\n",
        "\n",
        "void s_max(int arr[], int n) {\n",
        "    int max_val = INT_MIN;\n",
        "    int i;\n",
        "    for (i = 0; i < n; i++) {\n",
        "        if (arr[i] > max_val) {\n",
        "            max_val = arr[i];\n",
        "        }\n",
        "    }\n",
        "    // cout << \"\\nMax value = \" << max_val << \"\\n\";\n",
        "}\n",
        "\n",
        "void p_max(int arr[], int n) {\n",
        "    int max_val = INT_MIN;\n",
        "    int i;\n",
        "#pragma omp parallel for reduction(max : max_val) num_threads(16)\n",
        "    for (i = 0; i < n; i++) {\n",
        "        if (arr[i] > max_val) {\n",
        "            max_val = arr[i];\n",
        "        }\n",
        "    }\n",
        "    // cout << \"\\nMax value = \" << max_val << \"\\n\";\n",
        "}\n",
        "\n",
        "void s_min(int arr[], int n) {\n",
        "    int min_val = INT_MAX;\n",
        "    int i;\n",
        "    for (i = 0; i < n; i++) {\n",
        "        if (arr[i] < min_val) {\n",
        "            min_val = arr[i];\n",
        "        }\n",
        "    }\n",
        "    // cout << \"\\nMin value = \" << min_val << \"\\n\";\n",
        "}\n",
        "\n",
        "void p_min(int arr[], int n) {\n",
        "    int min_val = INT_MAX;\n",
        "    int i;\n",
        "#pragma omp parallel for reduction(min : min_val) num_threads(16)\n",
        "    for (i = 0; i < n; i++) {\n",
        "        if (arr[i] < min_val) {\n",
        "            min_val = arr[i];\n",
        "        }\n",
        "    }\n",
        "    // cout << \"\\nMin value = \" << min_val << \"\\n\";\n",
        "}\n",
        "\n",
        "std::string bench_traverse(std::function<void()> traverse_fn) {\n",
        "    auto start = high_resolution_clock::now();\n",
        "    traverse_fn();\n",
        "    auto stop = high_resolution_clock::now();\n",
        "\n",
        "    // Subtract stop and start timepoints and cast it to required unit.\n",
        "    // Predefined units are nanoseconds, microseconds, milliseconds, seconds,\n",
        "    // minutes, hours. Use duration_cast() function.\n",
        "    auto duration = duration_cast<milliseconds>(stop - start);\n",
        "\n",
        "    // To get the value of duration use the count() member function on the\n",
        "    // duration object\n",
        "    return std::to_string(duration.count());\n",
        "}\n",
        "\n",
        "int main(int argc, const char **argv) {\n",
        "    if (argc < 2) {\n",
        "        std::cout << \"Specify array length.\\n\";\n",
        "        return 1;\n",
        "    }\n",
        "    int *a, n, i;\n",
        "\n",
        "    n = stoi(argv[1]);\n",
        "    a = new int[n];\n",
        "\n",
        "    for (i = 0; i < n; i++) {\n",
        "        a[i] = rand() % n;\n",
        "    }\n",
        "\n",
        "    cout << \"Generated random array of length \" << n << \"\\n\\n\";\n",
        "    omp_set_num_threads(16);\n",
        "\n",
        "    std::cout << \"Sequential Min: \" << bench_traverse([&] { s_min(a, n); }) << \"ms\\n\";\n",
        "\n",
        "    std::cout << \"Parallel (16) Min: \" << bench_traverse([&] { p_min(a, n); }) << \"ms\\n\";\n",
        "\n",
        "    std::cout << \"\\nSequential Max: \" << bench_traverse([&] { s_max(a, n); }) << \"ms\\n\";\n",
        "\n",
        "    std::cout << \"Parallel (16) Max: \" << bench_traverse([&] { p_max(a, n); }) << \"ms\\n\";\n",
        "\n",
        "    std::cout << \"\\nSequential Sum: \" << bench_traverse([&] { s_sum(a, n); }) << \"ms\\n\";\n",
        "\n",
        "    std::cout << \"Parallel (16) Sum: \" << bench_traverse([&] { p_sum(a, n); }) << \"ms\\n\";\n",
        "\n",
        "    std::cout << \"\\nSequential Average: \" << bench_traverse([&] { s_avg(a, n); }) << \"ms\\n\";\n",
        "\n",
        "    std::cout << \"Parallel (16) Average: \" << bench_traverse([&] { p_avg(a, n); }) << \"ms\\n\";\n",
        "\n",
        "    // cout << \"\\nSorted array is =>\";\n",
        "    // for (i = 0; i < n; i++) {\n",
        "    //     cout << \"\\n\" << a[i];\n",
        "    // }\n",
        "    return 0;\n",
        "}"
      ],
      "metadata": {
        "colab": {
          "base_uri": "https://localhost:8080/"
        },
        "id": "BuifZuaFEcMg",
        "outputId": "151446cd-0daa-48ab-c70e-a72698363552"
      },
      "execution_count": 2,
      "outputs": [
        {
          "output_type": "stream",
          "name": "stdout",
          "text": [
            "Overwriting statistics.cpp\n"
          ]
        }
      ]
    },
    {
      "cell_type": "code",
      "source": [
        "!g++ -g statistics.cpp -lgomp -fopenmp -Wall -o statistics && ./statistics 100000000"
      ],
      "metadata": {
        "colab": {
          "base_uri": "https://localhost:8080/"
        },
        "id": "nTNlaV27Ylkh",
        "outputId": "78281cc6-777e-4d01-b44f-b19331c23077"
      },
      "execution_count": 3,
      "outputs": [
        {
          "output_type": "stream",
          "name": "stdout",
          "text": [
            "Generated random array of length 100000000\n",
            "\n",
            "Sequential Min: 271ms\n",
            "Parallel (16) Min: 222ms\n",
            "\n",
            "Sequential Max: 269ms\n",
            "Parallel (16) Max: 225ms\n",
            "\n",
            "Sequential Sum: 267ms\n",
            "Parallel (16) Sum: 243ms\n",
            "\n",
            "Sequential Average: 281ms\n",
            "Parallel (16) Average: 233ms\n"
          ]
        }
      ]
    }
  ]
}